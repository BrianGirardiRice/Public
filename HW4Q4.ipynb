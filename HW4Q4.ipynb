{
  "nbformat": 4,
  "nbformat_minor": 0,
  "metadata": {
    "colab": {
      "provenance": [],
      "authorship_tag": "ABX9TyPq6miMbLGvlKMge72djjVV",
      "include_colab_link": true
    },
    "kernelspec": {
      "name": "python3",
      "display_name": "Python 3"
    },
    "language_info": {
      "name": "python"
    }
  },
  "cells": [
    {
      "cell_type": "markdown",
      "metadata": {
        "id": "view-in-github",
        "colab_type": "text"
      },
      "source": [
        "<a href=\"https://colab.research.google.com/github/BrianGirardiRice/Public/blob/main/HW4Q4.ipynb\" target=\"_parent\"><img src=\"https://colab.research.google.com/assets/colab-badge.svg\" alt=\"Open In Colab\"/></a>"
      ]
    },
    {
      "cell_type": "code",
      "execution_count": 2,
      "metadata": {
        "colab": {
          "base_uri": "https://localhost:8080/"
        },
        "id": "fKVWwdube8V5",
        "outputId": "7dbea964-41b9-434b-c053-a3e1db44c402"
      },
      "outputs": [
        {
          "output_type": "stream",
          "name": "stdout",
          "text": [
            "Requirement already satisfied: numpy==1.24.3 in /usr/local/lib/python3.11/dist-packages (1.24.3)\n"
          ]
        }
      ],
      "source": [
        "import sys\n",
        "sys.meta_path[:] = [f for f in sys.meta_path if \"DaskFinder\" not in str(f)]\n",
        "\n",
        "!pip install numpy==1.24.3\n",
        "try:\n",
        "    import cirq\n",
        "except ImportError:\n",
        "    print(\"installing cirq...\")\n",
        "    !pip install --quiet cirq\n",
        "    import cirq\n",
        "\n",
        "    print(\"installed cirq.\")\n",
        "\n",
        "import numpy as np\n",
        "import matplotlib.pyplot as plt\n",
        "from collections import Counter\n",
        "from itertools import combinations\n",
        "import random\n"
      ]
    },
    {
      "cell_type": "code",
      "source": [
        "# Define qubits\n",
        "q0, q1, q2, q3 = cirq.LineQubit.range(4)\n",
        "\n",
        "# Define the Hamiltonian terms\n",
        "term1 = cirq.PauliString(cirq.Z(q0), cirq.Z(q1))\n",
        "term2 = cirq.PauliString(cirq.X(q0), cirq.X(q1))\n",
        "term3 = cirq.PauliString(cirq.Y(q0), cirq.Y(q1))\n",
        "term4 = cirq.PauliString(cirq.Z(q2), cirq.Z(q3))\n",
        "term5 = cirq.PauliString(cirq.X(q2), cirq.X(q3))\n",
        "term6 = cirq.PauliString(cirq.Y(q0), cirq.Z(q1))\n",
        "\n",
        "# Combine terms into a PauliSum\n",
        "hamiltonian = term1 + term2 + term3 + term4 + term5 + term6\n",
        "\n",
        "print(hamiltonian)"
      ],
      "metadata": {
        "colab": {
          "base_uri": "https://localhost:8080/"
        },
        "id": "0POwJO_LfODE",
        "outputId": "c95c2849-5c8d-4284-856e-8479f2bed218"
      },
      "execution_count": 4,
      "outputs": [
        {
          "output_type": "stream",
          "name": "stdout",
          "text": [
            "1.000*Z(q(0))*Z(q(1))+1.000*X(q(0))*X(q(1))+1.000*Y(q(0))*Y(q(1))+1.000*Z(q(2))*Z(q(3))+1.000*X(q(2))*X(q(3))+1.000*Y(q(0))*Z(q(1))\n"
          ]
        }
      ]
    }
  ]
}