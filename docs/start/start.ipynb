{
  "cells": [
    {
      "cell_type": "markdown",
      "metadata": {
        "id": "gXXhctqjgXO7"
      },
      "source": [
        "##### Copyright 2022 The Cirq Developers"
      ]
    },
    {
      "cell_type": "code",
      "execution_count": 48,
      "metadata": {
        "cellView": "form",
        "id": "z2RJVa8qgXou"
      },
      "outputs": [],
      "source": [
        "# @title Licensed under the Apache License, Version 2.0 (the \"License\");\n",
        "# you may not use this file except in compliance with the License.\n",
        "# You may obtain a copy of the License at\n",
        "#\n",
        "# https://www.apache.org/licenses/LICENSE-2.0\n",
        "#\n",
        "# Unless required by applicable law or agreed to in writing, software\n",
        "# distributed under the License is distributed on an \"AS IS\" BASIS,\n",
        "# WITHOUT WARRANTIES OR CONDITIONS OF ANY KIND, either express or implied.\n",
        "# See the License for the specific language governing permissions and\n",
        "# limitations under the License."
      ]
    },
    {
      "cell_type": "markdown",
      "metadata": {
        "id": "EQvWLKKRgZR9"
      },
      "source": [
        "# Hello Qubit"
      ]
    },
    {
      "cell_type": "markdown",
      "metadata": {
        "id": "EvZ_JecKga2p"
      },
      "source": [
        "<table class=\"tfo-notebook-buttons\" align=\"left\">\n",
        "  <td>\n",
        "    <a target=\"_blank\" href=\"https://quantumai.google/cirq/start/start\"><img src=\"https://quantumai.google/site-assets/images/buttons/quantumai_logo_1x.png\" />View on QuantumAI</a>\n",
        "  </td>\n",
        "  <td>\n",
        "    <a target=\"_blank\" href=\"https://colab.research.google.com/github/quantumlib/Cirq/blob/main/docs/start/start.ipynb\"><img src=\"https://quantumai.google/site-assets/images/buttons/colab_logo_1x.png\" />Run in Google Colab</a>\n",
        "  </td>\n",
        "  <td>\n",
        "    <a target=\"_blank\" href=\"https://github.com/quantumlib/Cirq/blob/main/docs/start/start.ipynb\"><img src=\"https://quantumai.google/site-assets/images/buttons/github_logo_1x.png\" />View source on GitHub</a>\n",
        "  </td>\n",
        "  <td>\n",
        "    <a href=\"https://storage.googleapis.com/tensorflow_docs/Cirq/docs/start/start.ipynb\"><img src=\"https://quantumai.google/site-assets/images/buttons/download_icon_1x.png\" />Download notebook</a>\n",
        "  </td>\n",
        "</table>"
      ]
    },
    {
      "cell_type": "code",
      "execution_count": 49,
      "metadata": {
        "id": "bd9529db1c0b"
      },
      "outputs": [],
      "source": [
        "import sys\n",
        "sys.meta_path[:] = [f for f in sys.meta_path if \"DaskFinder\" not in str(f)]\n",
        "\n",
        "try:\n",
        "    import cirq\n",
        "except ImportError:\n",
        "    print(\"installing cirq...\")\n",
        "    !pip install --quiet cirq\n",
        "    import cirq\n",
        "\n",
        "    print(\"installed cirq.\")\n",
        "\n",
        "import numpy as np\n",
        "import matplotlib.pyplot as plt\n",
        "from collections import Counter"
      ]
    },
    {
      "cell_type": "code",
      "execution_count": 57,
      "metadata": {
        "id": "n4GQUN8MS7vt",
        "colab": {
          "base_uri": "https://localhost:8080/",
          "height": 211
        },
        "outputId": "97325b20-8bf6-4283-8533-1eadd3b39cc4"
      },
      "outputs": [
        {
          "output_type": "error",
          "ename": "TypeError",
          "evalue": "Rz.__init__() takes 1 positional argument but 2 were given",
          "traceback": [
            "\u001b[0;31m---------------------------------------------------------------------------\u001b[0m",
            "\u001b[0;31mTypeError\u001b[0m                                 Traceback (most recent call last)",
            "\u001b[0;32m<ipython-input-57-fc9e448887ab>\u001b[0m in \u001b[0;36m<cell line: 0>\u001b[0;34m()\u001b[0m\n\u001b[1;32m     34\u001b[0m \u001b[0;31m# Add the inverses of the gates in reverse order\u001b[0m\u001b[0;34m\u001b[0m\u001b[0;34m\u001b[0m\u001b[0m\n\u001b[1;32m     35\u001b[0m \u001b[0mcircuit\u001b[0m\u001b[0;34m.\u001b[0m\u001b[0mappend\u001b[0m\u001b[0;34m(\u001b[0m\u001b[0mcirq\u001b[0m\u001b[0;34m.\u001b[0m\u001b[0mX\u001b[0m\u001b[0;34m(\u001b[0m\u001b[0mqubits\u001b[0m\u001b[0;34m[\u001b[0m\u001b[0;36m3\u001b[0m\u001b[0;34m]\u001b[0m\u001b[0;34m)\u001b[0m\u001b[0;34m)\u001b[0m  \u001b[0;31m# Inverse of X\u001b[0m\u001b[0;34m\u001b[0m\u001b[0;34m\u001b[0m\u001b[0m\n\u001b[0;32m---> 36\u001b[0;31m \u001b[0mcircuit\u001b[0m\u001b[0;34m.\u001b[0m\u001b[0mappend\u001b[0m\u001b[0;34m(\u001b[0m\u001b[0mcirq\u001b[0m\u001b[0;34m.\u001b[0m\u001b[0mRz\u001b[0m\u001b[0;34m(\u001b[0m\u001b[0;34m-\u001b[0m\u001b[0mtheta_2\u001b[0m\u001b[0;34m)\u001b[0m\u001b[0;34m(\u001b[0m\u001b[0mqubits\u001b[0m\u001b[0;34m[\u001b[0m\u001b[0;36m2\u001b[0m\u001b[0;34m]\u001b[0m\u001b[0;34m)\u001b[0m\u001b[0;34m)\u001b[0m  \u001b[0;31m# Inverse of Rz\u001b[0m\u001b[0;34m\u001b[0m\u001b[0;34m\u001b[0m\u001b[0m\n\u001b[0m\u001b[1;32m     37\u001b[0m \u001b[0mcircuit\u001b[0m\u001b[0;34m.\u001b[0m\u001b[0mappend\u001b[0m\u001b[0;34m(\u001b[0m\u001b[0mcirq\u001b[0m\u001b[0;34m.\u001b[0m\u001b[0mRy\u001b[0m\u001b[0;34m(\u001b[0m\u001b[0;34m-\u001b[0m\u001b[0mtheta_1\u001b[0m\u001b[0;34m)\u001b[0m\u001b[0;34m(\u001b[0m\u001b[0mqubits\u001b[0m\u001b[0;34m[\u001b[0m\u001b[0;36m1\u001b[0m\u001b[0;34m]\u001b[0m\u001b[0;34m)\u001b[0m\u001b[0;34m)\u001b[0m  \u001b[0;31m# Inverse of Ry\u001b[0m\u001b[0;34m\u001b[0m\u001b[0;34m\u001b[0m\u001b[0m\n\u001b[1;32m     38\u001b[0m \u001b[0mcircuit\u001b[0m\u001b[0;34m.\u001b[0m\u001b[0mappend\u001b[0m\u001b[0;34m(\u001b[0m\u001b[0mcirq\u001b[0m\u001b[0;34m.\u001b[0m\u001b[0mRx\u001b[0m\u001b[0;34m(\u001b[0m\u001b[0;34m-\u001b[0m\u001b[0mtheta_0\u001b[0m\u001b[0;34m)\u001b[0m\u001b[0;34m(\u001b[0m\u001b[0mqubits\u001b[0m\u001b[0;34m[\u001b[0m\u001b[0;36m0\u001b[0m\u001b[0;34m]\u001b[0m\u001b[0;34m)\u001b[0m\u001b[0;34m)\u001b[0m  \u001b[0;31m# Inverse of Rx\u001b[0m\u001b[0;34m\u001b[0m\u001b[0;34m\u001b[0m\u001b[0m\n",
            "\u001b[0;31mTypeError\u001b[0m: Rz.__init__() takes 1 positional argument but 2 were given"
          ]
        }
      ],
      "source": [
        "#arbirary angles\n",
        "theta_0 = np.pi/6\n",
        "theta_1 = np.pi/4\n",
        "theta_2 = np.pi/3\n",
        "theta_3 = np.pi/3\n",
        "\n",
        "\n",
        "#Form curcuit\n",
        "qubits = [cirq.LineQubit(i) for i in range(4)]\n",
        "circuit = cirq.Circuit()\n",
        "\n",
        "#Append 20 gates\n",
        "circuit.append(cirq.X(qubits[0]))\n",
        "circuit.append(cirq.S(qubits[1]))\n",
        "circuit.append(cirq.H(qubits[2]))\n",
        "circuit.append(cirq.X(qubits[3]))\n",
        "circuit.append(cirq.Z(qubits[0]))\n",
        "circuit.append(cirq.X(qubits[1]))\n",
        "circuit.append(cirq.T(qubits[3]))\n",
        "circuit.append(cirq.X(qubits[0]))\n",
        "circuit.append(cirq.CNOT(qubits[3], qubits[2]))\n",
        "circuit.append(cirq.CZ(qubits[0], qubits[1]))\n",
        "circuit.append(cirq.Y(qubits[2]))\n",
        "circuit.append(cirq.X(qubits[3]))\n",
        "circuit.append(cirq.SWAP(qubits[2], qubits[3]))\n",
        "circuit.append(cirq.CNOT(qubits[2], qubits[3]))\n",
        "circuit.append(cirq.CCNOT(qubits[2], qubits[1], qubits[0]))\n",
        "circuit.append(cirq.CZ(qubits[2], qubits[3]))\n",
        "circuit.append(cirq.Rx(rads=theta_0)(qubits[0]))\n",
        "circuit.append(cirq.Ry(rads=theta_1)(qubits[1]))\n",
        "circuit.append(cirq.Rz(rads=theta_2)(qubits[2]))\n",
        "circuit.append(cirq.X(qubits[3]))\n",
        "\n",
        "# Add the inverses of the gates in reverse order\n",
        "circuit.append(cirq.X(qubits[3]))  # Inverse of X\n",
        "circuit.append(cirq.Rz(rads=-theta_2)(qubits[2]))  # Inverse of Rz\n",
        "circuit.append(cirq.Ry(rads=-theta_1)(qubits[1]))  # Inverse of Ry\n",
        "circuit.append(cirq.Rx(rads=-theta_0)(qubits[0]))  # Inverse of Rx\n",
        "circuit.append(cirq.CZ(qubits[2], qubits[3]))  # Inverse of CZ\n",
        "circuit.append(cirq.CCNOT(qubits[2], qubits[1], qubits[0]))  # Inverse of CCNOT\n",
        "circuit.append(cirq.CNOT(qubits[2], qubits[3]))  # Inverse of CNOT\n",
        "circuit.append(cirq.SWAP(qubits[2], qubits[3]))  # Inverse of SWAP\n",
        "circuit.append(cirq.X(qubits[3]))  # Inverse of X\n",
        "circuit.append(cirq.S(qubits[2])**-1)  # Inverse of S\n",
        "circuit.append(cirq.CZ(qubits[0], qubits[1]))  # Inverse of CZ\n",
        "circuit.append(cirq.CNOT(qubits[3], qubits[2]))  # Inverse of CNOT\n",
        "circuit.append(cirq.X(qubits[0]))  # Inverse of X\n",
        "circuit.append(cirq.S(qubits[3])**-1)  # Inverse of S\n",
        "circuit.append(cirq.X(qubits[1]))  # Inverse of X\n",
        "circuit.append(cirq.X(qubits[0]))  # Inverse of X\n",
        "circuit.append(cirq.T(qubits[3])**-1)  # Inverse of T\n",
        "circuit.append(cirq.H(qubits[2]))  # Inverse of H\n",
        "circuit.append(cirq.Y(qubits[1])**-1)  # Inverse of Y (Y dagger)\n",
        "circuit.append(cirq.Z(qubits[0])**-1)  # Inverse of Z (Z dagger)\n",
        "\n",
        "# Reverse qubit order for measurement\n",
        "circuit.append(cirq.measure(*qubits[::-1], key='result'))\n",
        "\n",
        "simulator = cirq.Simulator()\n",
        "result = simulator.run(circuit, repetitions=8192)\n",
        "\n",
        "print(\"Results:\")\n",
        "print(result)\n",
        "\n",
        "histogram = result.histogram(key='result')\n",
        "# Analyze results\n",
        "counts = Counter()\n",
        "for outcome, freq in histogram.items():\n",
        "    binary_outcome = f\"{outcome:04b}\"\n",
        "    counts[binary_outcome] += freq\n",
        "\n",
        "# Calculate conditional probabilities\n",
        "conditional_probabilities = {}\n",
        "for q2q1q0 in [f\"{i:03b}\" for i in range(8)]:\n",
        "    total = sum(freq for outcome, freq in counts.items() if outcome[1:] == q2q1q0)\n",
        "    if total > 0:\n",
        "        prob_q3_0 = sum(freq for outcome, freq in counts.items() if outcome[1:] == q2q1q0 and outcome[0] == '0') / total\n",
        "        conditional_probabilities[q2q1q0] = prob_q3_0\n",
        "    else:\n",
        "        conditional_probabilities[q2q1q0] = 0\n",
        "\n",
        "# Display the calculated conditional probabilities\n",
        "for q2q1q0, prob in conditional_probabilities.items():\n",
        "    if prob == 0:\n",
        "        print(f\"P(q3=0|q2q1q0={q2q1q0}) = 0 (no occurrences of this combination)\")\n",
        "    else:\n",
        "        print(f\"P(q3=0|q2q1q0={q2q1q0}) = {prob:.4f}\")\n",
        "\n",
        "# Step 5: Show output histogram\n",
        "plt.bar(histogram.keys(), histogram.values(), color='blue')\n",
        "plt.xlabel(\"Measurement Outcomes (Binary Encoded)\")\n",
        "plt.ylabel(\"Frequency\")\n",
        "plt.title(\"Quantum Circuit Simulation Results (8192 shots)\")\n",
        "plt.xticks(rotation=90)\n",
        "plt.show()\n",
        "\n",
        "\n",
        "# Display the calculated conditional probabilities\n",
        "print(conditional_probabilities)"
      ]
    },
    {
      "cell_type": "markdown",
      "metadata": {
        "id": "shNBShuQTFuu"
      },
      "source": [
        "# Congratulations\n",
        "You've just run your first Cirq program.\n",
        "\n",
        "To learn about running a circuit on a virtual machine that mimics existing quantum hardware, see [Quantum Virtual Machine](../simulate/quantum_virtual_machine.ipynb).\n",
        "\n",
        "If you would like to learn more about quantum computing, check out our [education page](https://quantumai.google/resources). The Full API reference for Cirq can be found [here](/reference/python/cirq). If you are looking for vendor specific information that can be found on our vendor sub-pages:\n",
        "\n",
        "\n",
        "  [Alpine Quantum Technologies](../hardware/aqt/getting_started.ipynb)\n",
        "  \n",
        "  [Pasqal](../hardware/pasqal/getting_started.ipynb)\n",
        "  \n",
        "  [IonQ](../hardware/ionq/getting_started.ipynb)\n",
        "  \n",
        "  [Azure](../hardware/azure-quantum/getting_started_honeywell.ipynb)\n",
        "  \n",
        "  [Rigetti](../hardware/rigetti/getting_started.ipynb)"
      ]
    }
  ],
  "metadata": {
    "colab": {
      "name": "start.ipynb",
      "provenance": []
    },
    "kernelspec": {
      "display_name": "Python 3",
      "name": "python3"
    }
  },
  "nbformat": 4,
  "nbformat_minor": 0
}